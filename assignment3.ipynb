{
  "nbformat": 4,
  "nbformat_minor": 0,
  "metadata": {
    "colab": {
      "provenance": []
    },
    "kernelspec": {
      "name": "python3",
      "display_name": "Python 3"
    },
    "language_info": {
      "name": "python"
    }
  },
  "cells": [
    {
      "cell_type": "markdown",
      "source": [
        "Chelsea Jaculina\n",
        "\n",
        "DATA 255 Assignment #3\n",
        "\n",
        "September 29, 2025"
      ],
      "metadata": {
        "id": "GEdnZMKmRZ0z"
      }
    },
    {
      "cell_type": "markdown",
      "source": [
        "## Import Required Libraries"
      ],
      "metadata": {
        "id": "UufVIAHQTuF9"
      }
    },
    {
      "cell_type": "code",
      "source": [
        "from google.colab import drive\n",
        "drive.mount('/content/drive')"
      ],
      "metadata": {
        "colab": {
          "base_uri": "https://localhost:8080/"
        },
        "id": "RzLhc8r07DkH",
        "outputId": "a26cf784-054f-4eb8-bfa2-ae91218a04af"
      },
      "execution_count": 236,
      "outputs": [
        {
          "output_type": "stream",
          "name": "stdout",
          "text": [
            "Drive already mounted at /content/drive; to attempt to forcibly remount, call drive.mount(\"/content/drive\", force_remount=True).\n"
          ]
        }
      ]
    },
    {
      "cell_type": "markdown",
      "source": [
        "## Load Libraries"
      ],
      "metadata": {
        "id": "IIa_aHxmJ3VD"
      }
    },
    {
      "cell_type": "code",
      "source": [
        "import torch\n",
        "import pandas as pd\n",
        "import numpy as np\n",
        "import matplotlib.pyplot as plt\n",
        "\n",
        "print(\"Libraries successfully loaded\")"
      ],
      "metadata": {
        "colab": {
          "base_uri": "https://localhost:8080/"
        },
        "id": "TcEr_pNiHAbG",
        "outputId": "0cd44881-78a1-434e-e754-c94a57da6ac1"
      },
      "execution_count": 237,
      "outputs": [
        {
          "output_type": "stream",
          "name": "stdout",
          "text": [
            "Libraries successfully loaded\n"
          ]
        }
      ]
    },
    {
      "cell_type": "markdown",
      "source": [
        "## Load Data"
      ],
      "metadata": {
        "id": "nk4f9dTjJ8cD"
      }
    },
    {
      "cell_type": "code",
      "source": [
        "def load_data(path):\n",
        "    data = pd.read_csv(path).values\n",
        "    X = data[:, 1:] / 255.0  # Normalize pixel values\n",
        "    y = data[:, 0].reshape(-1, 1)\n",
        "    return torch.tensor(X, dtype=torch.float32), torch.tensor(y, dtype=torch.float32)\n",
        "\n",
        "X_train, y_train = load_data(\"/content/drive/MyDrive/MSDA 2024-2026/04 Fall 2025/DATA 255 - Deep Learning/mnist_train_binary.csv\")\n",
        "X_test, y_test = load_data(\"/content/drive/MyDrive/MSDA 2024-2026/04 Fall 2025/DATA 255 - Deep Learning/mnist_test_binary.csv\")\n",
        "\n",
        "print(f\"Loaded {len(X_train)} training samples successfully\")\n",
        "print(f\"Loaded {len(X_test)} test samples successfully\")\n"
      ],
      "metadata": {
        "colab": {
          "base_uri": "https://localhost:8080/"
        },
        "id": "KSdeHhTsHDfd",
        "outputId": "45e42c17-cab6-472d-e396-9fa512996475"
      },
      "execution_count": 238,
      "outputs": [
        {
          "output_type": "stream",
          "name": "stdout",
          "text": [
            "Loaded 11339 training samples successfully\n",
            "Loaded 1850 test samples successfully\n"
          ]
        }
      ]
    },
    {
      "cell_type": "markdown",
      "source": [
        "## 1. Build Deep Neural Network"
      ],
      "metadata": {
        "id": "GejnhFVXKiWp"
      }
    },
    {
      "cell_type": "markdown",
      "source": [
        "Define Activation Functions"
      ],
      "metadata": {
        "id": "aTSu-hPPJ_SR"
      }
    },
    {
      "cell_type": "code",
      "source": [
        "def relu(z):\n",
        "    return torch.maximum(torch.tensor(0.0), z)\n",
        "\n",
        "def relu_derivative(z):\n",
        "    return (z > 0).float()\n",
        "\n",
        "def sigmoid(z):\n",
        "    return 1 / (1 + torch.exp(-z))\n",
        "\n",
        "print(\"Activation functions successfully defined\")"
      ],
      "metadata": {
        "colab": {
          "base_uri": "https://localhost:8080/"
        },
        "id": "rAJRH2tjHF9-",
        "outputId": "b7a55c05-c7a5-446d-85d1-84f0b9d75a0d"
      },
      "execution_count": 239,
      "outputs": [
        {
          "output_type": "stream",
          "name": "stdout",
          "text": [
            "Activation functions successfully defined\n"
          ]
        }
      ]
    },
    {
      "cell_type": "markdown",
      "source": [
        "\n",
        "Define Intializations"
      ],
      "metadata": {
        "id": "H0UKy8mcKEHT"
      }
    },
    {
      "cell_type": "code",
      "source": [
        "input_size = 784\n",
        "hidden_size = 100\n",
        "output_size = 1\n",
        "\n",
        "torch.manual_seed(0)  # For reproducibility\n",
        "\n",
        "# He Initialization for ReLU hidden layer\n",
        "w1 = torch.randn((input_size, hidden_size), dtype=torch.float32, requires_grad=True) * (\n",
        "    (2 ** 0.5) / ((input_size + hidden_size) ** 0.5)\n",
        ")\n",
        "# Xavier Initialization for Sigmoid output layer\n",
        "w2 = torch.randn((hidden_size, output_size), dtype=torch.float32, requires_grad=True) * (\n",
        "    2 / ((hidden_size + output_size) ** 0.5)\n",
        ")\n",
        "# Biases\n",
        "b1 = torch.zeros((hidden_size,), dtype=torch.float32, requires_grad=True)\n",
        "b2 = torch.zeros((output_size,), dtype=torch.float32, requires_grad=True)\n",
        "\n",
        "print(\"Initializations successfully defined\")"
      ],
      "metadata": {
        "colab": {
          "base_uri": "https://localhost:8080/"
        },
        "id": "ysjIV86PHJ4T",
        "outputId": "273d6451-e81c-454b-cb84-e9d7c4db6777"
      },
      "execution_count": 240,
      "outputs": [
        {
          "output_type": "stream",
          "name": "stdout",
          "text": [
            "Initializations successfully defined\n"
          ]
        }
      ]
    },
    {
      "cell_type": "markdown",
      "source": [
        "Define Binary Cross Entropy Loss and Accuracy Functions from scratch"
      ],
      "metadata": {
        "id": "16rEjXAIKHLr"
      }
    },
    {
      "cell_type": "code",
      "source": [
        "def binary_cross_entropy(y_pred, y_true):\n",
        "    epsilon = 1e-8\n",
        "    return -torch.mean(y_true * torch.log(y_pred + epsilon) + (1 - y_true) * torch.log(1 - y_pred + epsilon))\n",
        "\n",
        "def accuracy(y_pred, y_true):\n",
        "    preds = (y_pred >= 0.5).float()\n",
        "    return (preds == y_true).float().mean().item()\n",
        "\n",
        "print(\"Loss and accuracy functions successfully defined\")"
      ],
      "metadata": {
        "colab": {
          "base_uri": "https://localhost:8080/"
        },
        "id": "fsYxuNO1HOxZ",
        "outputId": "a49288d1-e654-4831-fb40-c7eb62aa1282"
      },
      "execution_count": 241,
      "outputs": [
        {
          "output_type": "stream",
          "name": "stdout",
          "text": [
            "Loss and accuracy functions successfully defined\n"
          ]
        }
      ]
    },
    {
      "cell_type": "markdown",
      "source": [
        "Define Forward Pass from scratch"
      ],
      "metadata": {
        "id": "Vji1gwuNKKsI"
      }
    },
    {
      "cell_type": "code",
      "source": [
        "def forward_pass(X):\n",
        "    z1 = X @ w1 + b1\n",
        "    a1 = relu(z1)\n",
        "    z2 = a1 @ w2 + b2\n",
        "    y_pred = sigmoid(z2)\n",
        "    return z1, a1, z2, y_pred\n",
        "\n",
        "print(\"Forward pass function successfully defined\")"
      ],
      "metadata": {
        "colab": {
          "base_uri": "https://localhost:8080/"
        },
        "id": "pIgOLjUjHWQl",
        "outputId": "74f7b487-dba9-4a4e-864b-3f34927bffc6"
      },
      "execution_count": 242,
      "outputs": [
        {
          "output_type": "stream",
          "name": "stdout",
          "text": [
            "Forward pass function successfully defined\n"
          ]
        }
      ]
    },
    {
      "cell_type": "markdown",
      "source": [
        "## 2. Define Backward Propagation"
      ],
      "metadata": {
        "id": "k3Fe7SJUK6cu"
      }
    },
    {
      "cell_type": "markdown",
      "source": [
        "Implement backward propagation from scratch to calculate gradient\n",
        "\n",
        "The gradient would be used to update the parameters using gradient descent method"
      ],
      "metadata": {
        "id": "-EekQjxfOm7Q"
      }
    },
    {
      "cell_type": "code",
      "source": [
        "def backward_pass(X, y, z1, a1, y_pred):\n",
        "    # gradient of loss w.r.t. output layer pre-activation (z2)\n",
        "    dz2 = y_pred - y\n",
        "\n",
        "    # gradients for weights and bias of output layer\n",
        "    dw2 = a1.T @ dz2 / X.shape[0]\n",
        "    db2 = dz2.mean(0)\n",
        "\n",
        "    # backpropagate into hidden layer\n",
        "    da1 = dz2 @ w2.T\n",
        "    dz1 = da1 * relu_derivative(z1)\n",
        "\n",
        "    # gradients for weights and bias of hidden layer\n",
        "    dw1 = X.T @ dz1 / X.shape[0]\n",
        "    db1 = dz1.mean(0)\n",
        "\n",
        "    return dw1, db1, dw2, db2\n",
        "\n",
        "print(\"Backward pass function successfully defined\")"
      ],
      "metadata": {
        "colab": {
          "base_uri": "https://localhost:8080/"
        },
        "id": "pllCiZR3K7Cq",
        "outputId": "813ce554-b013-41e4-e978-a73413f00843"
      },
      "execution_count": 243,
      "outputs": [
        {
          "output_type": "stream",
          "name": "stdout",
          "text": [
            "Backward pass function successfully defined\n"
          ]
        }
      ]
    },
    {
      "cell_type": "markdown",
      "source": [
        "# 3. Training\n"
      ],
      "metadata": {
        "id": "JzyKiNYVKQzJ"
      }
    },
    {
      "cell_type": "markdown",
      "source": [
        "Define learning rate and # of epochs\n"
      ],
      "metadata": {
        "id": "rhoDOlajLoCU"
      }
    },
    {
      "cell_type": "code",
      "source": [
        "lr = 0.2\n",
        "epochs = 20\n",
        "train_accs, test_accs = [], []\n",
        "\n",
        "print(\"Hyperparameters successfully defined\")"
      ],
      "metadata": {
        "colab": {
          "base_uri": "https://localhost:8080/"
        },
        "id": "91qmoSdMLooQ",
        "outputId": "940875ee-d572-453d-d67d-caee3c2c4d96"
      },
      "execution_count": 244,
      "outputs": [
        {
          "output_type": "stream",
          "name": "stdout",
          "text": [
            "Hyperparameters successfully defined\n"
          ]
        }
      ]
    },
    {
      "cell_type": "markdown",
      "source": [
        "Train the neural network using gradient descent from scratch\n",
        "\n",
        "Print accuracy for training and testing set for at least 5 different epochs"
      ],
      "metadata": {
        "id": "HF7eycKTLtnh"
      }
    },
    {
      "cell_type": "code",
      "source": [
        "for epoch in range(epochs):\n",
        "    # Forward pass\n",
        "    z1, a1, z2, y_pred = forward_pass(X_train)\n",
        "\n",
        "    # Loss and accuracy\n",
        "    loss = binary_cross_entropy(y_pred, y_train)\n",
        "    acc = accuracy(y_pred, y_train)\n",
        "    train_accs.append(acc)\n",
        "\n",
        "    # Backward pass\n",
        "    dw1, db1, dw2, db2 = backward_pass(X_train, y_train, z1, a1, y_pred)\n",
        "\n",
        "    # Update weights and biases\n",
        "    w1.data -= lr * dw1\n",
        "    b1.data -= lr * db1\n",
        "    w2.data -= lr * dw2\n",
        "    b2.data -= lr * db2\n",
        "\n",
        "    # Evaluate on test set\n",
        "    _, _, _, y_test_pred = forward_pass(X_test)\n",
        "    test_acc = accuracy(y_test_pred, y_test)\n",
        "    test_accs.append(test_acc)\n",
        "\n",
        "    # Print progress\n",
        "    print(f\"Epoch {epoch+1}/{epochs} | Loss: {loss.item():.2f} | Train Acc: {acc:.2f} | Test Acc: {test_acc:.2f}\")\n"
      ],
      "metadata": {
        "colab": {
          "base_uri": "https://localhost:8080/"
        },
        "id": "q81G6ZbeHd6K",
        "outputId": "5da6f578-d6bb-411a-f448-c8d7ccd565ec"
      },
      "execution_count": 245,
      "outputs": [
        {
          "output_type": "stream",
          "name": "stdout",
          "text": [
            "Epoch 1/20 | Loss: 0.71 | Train Acc: 0.49 | Test Acc: 0.84\n",
            "Epoch 2/20 | Loss: 0.48 | Train Acc: 0.83 | Test Acc: 0.94\n",
            "Epoch 3/20 | Loss: 0.37 | Train Acc: 0.94 | Test Acc: 0.94\n",
            "Epoch 4/20 | Loss: 0.30 | Train Acc: 0.94 | Test Acc: 0.95\n",
            "Epoch 5/20 | Loss: 0.26 | Train Acc: 0.96 | Test Acc: 0.96\n",
            "Epoch 6/20 | Loss: 0.22 | Train Acc: 0.95 | Test Acc: 0.96\n",
            "Epoch 7/20 | Loss: 0.20 | Train Acc: 0.96 | Test Acc: 0.96\n",
            "Epoch 8/20 | Loss: 0.18 | Train Acc: 0.96 | Test Acc: 0.96\n",
            "Epoch 9/20 | Loss: 0.17 | Train Acc: 0.96 | Test Acc: 0.96\n",
            "Epoch 10/20 | Loss: 0.16 | Train Acc: 0.96 | Test Acc: 0.96\n",
            "Epoch 11/20 | Loss: 0.15 | Train Acc: 0.96 | Test Acc: 0.96\n",
            "Epoch 12/20 | Loss: 0.14 | Train Acc: 0.97 | Test Acc: 0.96\n",
            "Epoch 13/20 | Loss: 0.14 | Train Acc: 0.97 | Test Acc: 0.97\n",
            "Epoch 14/20 | Loss: 0.13 | Train Acc: 0.97 | Test Acc: 0.97\n",
            "Epoch 15/20 | Loss: 0.13 | Train Acc: 0.97 | Test Acc: 0.97\n",
            "Epoch 16/20 | Loss: 0.12 | Train Acc: 0.97 | Test Acc: 0.97\n",
            "Epoch 17/20 | Loss: 0.12 | Train Acc: 0.97 | Test Acc: 0.97\n",
            "Epoch 18/20 | Loss: 0.12 | Train Acc: 0.97 | Test Acc: 0.97\n",
            "Epoch 19/20 | Loss: 0.11 | Train Acc: 0.97 | Test Acc: 0.97\n",
            "Epoch 20/20 | Loss: 0.11 | Train Acc: 0.97 | Test Acc: 0.97\n"
          ]
        }
      ]
    },
    {
      "cell_type": "markdown",
      "source": [
        "Visualize the output of the model once it is trained"
      ],
      "metadata": {
        "id": "mQLrE9ReL2zN"
      }
    },
    {
      "cell_type": "code",
      "source": [
        "plt.plot(range(1, epochs + 1), train_accs, label=\"Train Acc\")\n",
        "plt.plot(range(1, epochs + 1), test_accs, label=\"Test Acc\")\n",
        "plt.xlabel(\"Epoch\")\n",
        "plt.ylabel(\"Accuracy\")\n",
        "plt.title(\"Train vs Test Accuracy\")\n",
        "plt.legend()\n",
        "plt.grid(True)\n",
        "plt.show()"
      ],
      "metadata": {
        "colab": {
          "base_uri": "https://localhost:8080/",
          "height": 472
        },
        "id": "hlw88krGHgwc",
        "outputId": "be5bf2e6-46d1-42ee-a7f4-902c4844a1cb"
      },
      "execution_count": 246,
      "outputs": [
        {
          "output_type": "display_data",
          "data": {
            "text/plain": [
              "<Figure size 640x480 with 1 Axes>"
            ],
            "image/png": "[encoded data removed]"
          },
          "metadata": {}
        }
      ]
    }
  ]
}