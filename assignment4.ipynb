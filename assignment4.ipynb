{
  "nbformat": 4,
  "nbformat_minor": 0,
  "metadata": {
    "colab": {
      "provenance": []
    },
    "kernelspec": {
      "name": "python3",
      "display_name": "Python 3"
    },
    "language_info": {
      "name": "python"
    }
  },
  "cells": [
    {
      "cell_type": "markdown",
      "source": [
        "Chelsea Jaculina\n",
        "\n",
        "DATA 255 Assignment #4\n",
        "\n",
        "October 6, 2025"
      ],
      "metadata": {
        "id": "GEdnZMKmRZ0z"
      }
    },
    {
      "cell_type": "markdown",
      "source": [
        "## Import Required Libraries"
      ],
      "metadata": {
        "id": "UufVIAHQTuF9"
      }
    },
    {
      "cell_type": "code",
      "source": [
        "from google.colab import drive\n",
        "drive.mount('/content/drive')"
      ],
      "metadata": {
        "colab": {
          "base_uri": "https://localhost:8080/"
        },
        "id": "RzLhc8r07DkH",
        "outputId": "624314f8-f793-4454-a397-697826e72434"
      },
      "execution_count": 1,
      "outputs": [
        {
          "output_type": "stream",
          "name": "stdout",
          "text": [
            "Mounted at /content/drive\n"
          ]
        }
      ]
    },
    {
      "cell_type": "markdown",
      "source": [
        "## Load Libraries"
      ],
      "metadata": {
        "id": "IIa_aHxmJ3VD"
      }
    },
    {
      "cell_type": "code",
      "source": [
        "import torch\n",
        "import pandas as pd\n",
        "import numpy as np\n",
        "import matplotlib.pyplot as plt\n",
        "\n",
        "print(\"Libraries successfully loaded\")"
      ],
      "metadata": {
        "colab": {
          "base_uri": "https://localhost:8080/"
        },
        "id": "TcEr_pNiHAbG",
        "outputId": "78ee74ca-2628-476a-c307-886eefcdd173"
      },
      "execution_count": 2,
      "outputs": [
        {
          "output_type": "stream",
          "name": "stdout",
          "text": [
            "Libraries successfully loaded\n"
          ]
        }
      ]
    },
    {
      "cell_type": "markdown",
      "source": [
        "## Load Data"
      ],
      "metadata": {
        "id": "nk4f9dTjJ8cD"
      }
    },
    {
      "cell_type": "code",
      "source": [
        "def load_data(path):\n",
        "    data = pd.read_csv(path).values\n",
        "\n",
        "    X = data[:, 1:] / 255.0  # Normalize pixel values to [0, 1]\n",
        "    y = data[:, 0].astype(int)  # Make sure labels are integers (not floats)\n",
        "\n",
        "\n",
        "    X_tensor = torch.tensor(X, dtype=torch.float32)\n",
        "    y_tensor = torch.tensor(y, dtype=torch.long)\n",
        "\n",
        "    return X_tensor, y_tensor\n",
        "\n",
        "# Load binary MNIST train and test sets\n",
        "X_train, y_train = load_data(\"/content/drive/MyDrive/MSDA 2024-2026/04 Fall 2025/DATA 255 - Deep Learning/mnist_train.csv\")\n",
        "X_test, y_test = load_data(\"/content/drive/MyDrive/MSDA 2024-2026/04 Fall 2025/DATA 255 - Deep Learning/mnist_test.csv\")\n",
        "\n",
        "print(f\"Loaded {len(X_train)} training samples successfully\")\n",
        "print(f\"Loaded {len(X_test)} test samples successfully\")\n",
        "\n",
        "def one_hot(y, num_classes=10):\n",
        "    return torch.eye(num_classes)[y]\n",
        "\n",
        "y_train_onehot = one_hot(y_train)\n",
        "y_test_onehot = one_hot(y_test)\n",
        "\n",
        "print(\"One-hot encoding successfully defined\")"
      ],
      "metadata": {
        "colab": {
          "base_uri": "https://localhost:8080/"
        },
        "id": "KSdeHhTsHDfd",
        "outputId": "fb64af54-e7dc-4d63-c973-491d7dfa80db"
      },
      "execution_count": 3,
      "outputs": [
        {
          "output_type": "stream",
          "name": "stdout",
          "text": [
            "Loaded 11339 training samples successfully\n",
            "Loaded 1850 test samples successfully\n",
            "One-hot encoding successfully defined\n"
          ]
        }
      ]
    },
    {
      "cell_type": "markdown",
      "source": [
        "## 1. Build Deep Neural Network"
      ],
      "metadata": {
        "id": "GejnhFVXKiWp"
      }
    },
    {
      "cell_type": "markdown",
      "source": [
        "Define Activation Functions"
      ],
      "metadata": {
        "id": "aTSu-hPPJ_SR"
      }
    },
    {
      "cell_type": "code",
      "source": [
        "# for hidden layer\n",
        "def sigmoid(z):\n",
        "    return 1 / (1 + torch.exp(-z))\n",
        "\n",
        "def sigmoid_derivative(z):\n",
        "    s = sigmoid(z)\n",
        "    return s * (1 - s)\n",
        "\n",
        "# for output layer\n",
        "def softmax(z):\n",
        "    z_stable = z - torch.max(z, dim=1, keepdim=True).values\n",
        "    exp_z = torch.exp(z_stable)\n",
        "    return exp_z / torch.sum(exp_z, dim=1, keepdim=True)\n",
        "\n",
        "print(\"Activation functions successfully defined\")"
      ],
      "metadata": {
        "colab": {
          "base_uri": "https://localhost:8080/"
        },
        "id": "rAJRH2tjHF9-",
        "outputId": "9b37aade-0415-412b-e344-cb499b6c7552"
      },
      "execution_count": 4,
      "outputs": [
        {
          "output_type": "stream",
          "name": "stdout",
          "text": [
            "Activation functions successfully defined\n"
          ]
        }
      ]
    },
    {
      "cell_type": "markdown",
      "source": [
        "\n",
        "Define Intializations"
      ],
      "metadata": {
        "id": "H0UKy8mcKEHT"
      }
    },
    {
      "cell_type": "code",
      "source": [
        "input_size = 784\n",
        "hidden_size = 100\n",
        "output_size = 10  # 10 classes for multi-class classification\n",
        "\n",
        "torch.manual_seed(0)  # For reproducibility\n",
        "\n",
        "# Xavier Initialization for sigmoid activations\n",
        "w1 = torch.randn((input_size, hidden_size), dtype=torch.float32) * (1.0 / (input_size ** 0.5))\n",
        "w2 = torch.randn((hidden_size, output_size), dtype=torch.float32) * (1.0 / (hidden_size ** 0.5))\n",
        "\n",
        "# Biases\n",
        "b1 = torch.zeros((hidden_size,), dtype=torch.float32)\n",
        "b2 = torch.zeros((output_size,), dtype=torch.float32)\n",
        "\n",
        "print(\"Initializations successfully defined\")"
      ],
      "metadata": {
        "colab": {
          "base_uri": "https://localhost:8080/"
        },
        "id": "ysjIV86PHJ4T",
        "outputId": "5949adcc-df9f-4b2f-825a-23016363ddd1"
      },
      "execution_count": 5,
      "outputs": [
        {
          "output_type": "stream",
          "name": "stdout",
          "text": [
            "Initializations successfully defined\n"
          ]
        }
      ]
    },
    {
      "cell_type": "markdown",
      "source": [
        "Define Accuracy function"
      ],
      "metadata": {
        "id": "16rEjXAIKHLr"
      }
    },
    {
      "cell_type": "code",
      "source": [
        "def accuracy(y_pred, y_true):\n",
        "    pred_labels = torch.argmax(y_pred, dim=1)\n",
        "    return (pred_labels == y_true).float().mean().item()\n",
        "\n",
        "print(\"Accuracy function successfully defined\")"
      ],
      "metadata": {
        "colab": {
          "base_uri": "https://localhost:8080/"
        },
        "id": "fsYxuNO1HOxZ",
        "outputId": "7c8307b7-d77b-4d7b-c528-2a6fe3b8e513"
      },
      "execution_count": 6,
      "outputs": [
        {
          "output_type": "stream",
          "name": "stdout",
          "text": [
            "Accuracy function successfully defined\n"
          ]
        }
      ]
    },
    {
      "cell_type": "code",
      "source": [
        "def cross_entropy_loss(y_pred, y_true_onehot):\n",
        "    epsilon = 1e-8\n",
        "    return -torch.mean(torch.sum(y_true_onehot * torch.log(y_pred + epsilon), dim=1))\n",
        "\n",
        "print(\"Cross entropy loss function for multi-classificiation successfully defined\")"
      ],
      "metadata": {
        "colab": {
          "base_uri": "https://localhost:8080/"
        },
        "id": "9fziCK6sUNOW",
        "outputId": "c9add5ab-a860-48b3-eaa7-aec34d4b659f"
      },
      "execution_count": 7,
      "outputs": [
        {
          "output_type": "stream",
          "name": "stdout",
          "text": [
            "Cross entropy loss function for multi-classificiation successfully defined\n"
          ]
        }
      ]
    },
    {
      "cell_type": "markdown",
      "source": [
        "Define Forward Pass from scratch"
      ],
      "metadata": {
        "id": "Vji1gwuNKKsI"
      }
    },
    {
      "cell_type": "code",
      "source": [
        "def forward_pass(X):\n",
        "    z1 = X @ w1 + b1           # Hidden layer linear transformation\n",
        "    a1 = sigmoid(z1)           # Apply sigmoid activation\n",
        "    z2 = a1 @ w2 + b2          # Output layer linear transformation\n",
        "    y_pred = softmax(z2)       # Apply softmax activation\n",
        "    return z1, a1, z2, y_pred\n",
        "\n",
        "print(\"Forward pass function successfully defined\")"
      ],
      "metadata": {
        "colab": {
          "base_uri": "https://localhost:8080/"
        },
        "id": "pIgOLjUjHWQl",
        "outputId": "732c34ed-4723-4c13-9e2b-2152f6574976"
      },
      "execution_count": 8,
      "outputs": [
        {
          "output_type": "stream",
          "name": "stdout",
          "text": [
            "Forward pass function successfully defined\n"
          ]
        }
      ]
    },
    {
      "cell_type": "markdown",
      "source": [
        "Define Basckward Pass from scratch"
      ],
      "metadata": {
        "id": "4W3Jpex3TU4k"
      }
    },
    {
      "cell_type": "code",
      "source": [
        "def backward_pass(X, y_true_onehot, z1, a1, y_pred):\n",
        "    m = X.shape[0]\n",
        "\n",
        "    # Gradient of softmax + cross entropy\n",
        "    dz2 = y_pred - y_true_onehot\n",
        "    dw2 = a1.T @ dz2 / m\n",
        "    db2 = dz2.mean(dim=0)\n",
        "\n",
        "    da1 = dz2 @ w2.T\n",
        "    dz1 = da1 * sigmoid_derivative(z1)\n",
        "    dw1 = X.T @ dz1 / m\n",
        "    db1 = dz1.mean(dim=0)\n",
        "\n",
        "    return dw1, db1, dw2, db2\n",
        "\n",
        "print(\"Backward pass function successfully defined\")"
      ],
      "metadata": {
        "colab": {
          "base_uri": "https://localhost:8080/"
        },
        "id": "pllCiZR3K7Cq",
        "outputId": "c3e308de-6dfe-428f-b518-009f68b94521"
      },
      "execution_count": 9,
      "outputs": [
        {
          "output_type": "stream",
          "name": "stdout",
          "text": [
            "Backward pass function successfully defined\n"
          ]
        }
      ]
    },
    {
      "cell_type": "markdown",
      "source": [
        "# 2. Training\n"
      ],
      "metadata": {
        "id": "JzyKiNYVKQzJ"
      }
    },
    {
      "cell_type": "markdown",
      "source": [
        "Define learning rate and # of epochs\n"
      ],
      "metadata": {
        "id": "rhoDOlajLoCU"
      }
    },
    {
      "cell_type": "code",
      "source": [
        "lr = 0.1\n",
        "epochs = 15\n",
        "train_accs, test_accs = [], []\n",
        "\n",
        "print(\"Hyperparameters successfully defined\")"
      ],
      "metadata": {
        "colab": {
          "base_uri": "https://localhost:8080/"
        },
        "id": "91qmoSdMLooQ",
        "outputId": "a6af5ae6-9313-4540-f03f-738736e6c6df"
      },
      "execution_count": 10,
      "outputs": [
        {
          "output_type": "stream",
          "name": "stdout",
          "text": [
            "Hyperparameters successfully defined\n"
          ]
        }
      ]
    },
    {
      "cell_type": "markdown",
      "source": [
        "Train the neural network using gradient descent from scratch\n",
        "\n",
        "Print accuracy for training and testing set for at least 10 different epochs"
      ],
      "metadata": {
        "id": "HF7eycKTLtnh"
      }
    },
    {
      "cell_type": "code",
      "source": [
        "print(f\"Learning Rate @\", lr);\n",
        "for epoch in range(epochs):\n",
        "    # Forward pass\n",
        "    z1, a1, z2, y_pred = forward_pass(X_train)\n",
        "\n",
        "    # Loss and accuracy\n",
        "    loss = cross_entropy_loss(y_pred, y_train_onehot)\n",
        "    acc = accuracy(y_pred, y_train)\n",
        "    train_accs.append(acc)\n",
        "\n",
        "    # Backward pass (use one-hot labels)\n",
        "    dw1, db1, dw2, db2 = backward_pass(X_train, y_train_onehot, z1, a1, y_pred)\n",
        "\n",
        "    # Manual gradient descent updates\n",
        "    w1 -= lr * dw1\n",
        "    b1 -= lr * db1\n",
        "    w2 -= lr * dw2\n",
        "    b2 -= lr * db2\n",
        "\n",
        "    # Evaluate on test set\n",
        "    _, _, _, y_test_pred = forward_pass(X_test)\n",
        "    test_loss = cross_entropy_loss(y_test_pred, y_test_onehot)\n",
        "    test_acc = accuracy(y_test_pred, y_test)\n",
        "    test_accs.append(test_acc)\n",
        "\n",
        "    print(f\"Epoch {epoch+1}/{epochs} | Train Loss: {loss.item():.4f} | Train Acc: {acc:.4f} | Test Acc: {test_acc:.4f}\")"
      ],
      "metadata": {
        "colab": {
          "base_uri": "https://localhost:8080/"
        },
        "id": "h6XvOMLoZO1T",
        "outputId": "7e389af3-c2ad-4f3b-ed5f-a9bfd33425c8"
      },
      "execution_count": 11,
      "outputs": [
        {
          "output_type": "stream",
          "name": "stdout",
          "text": [
            "Learning Rate @ 0.1\n",
            "Epoch 1/15 | Train Loss: 2.3596 | Train Acc: 0.0000 | Test Acc: 0.4827\n",
            "Epoch 2/15 | Train Loss: 1.3549 | Train Acc: 0.4785 | Test Acc: 0.7654\n",
            "Epoch 3/15 | Train Loss: 0.9821 | Train Acc: 0.7461 | Test Acc: 0.7286\n",
            "Epoch 4/15 | Train Loss: 0.8458 | Train Acc: 0.7048 | Test Acc: 0.8022\n",
            "Epoch 5/15 | Train Loss: 0.7746 | Train Acc: 0.7945 | Test Acc: 0.8465\n",
            "Epoch 6/15 | Train Loss: 0.7283 | Train Acc: 0.8388 | Test Acc: 0.8719\n",
            "Epoch 7/15 | Train Loss: 0.6941 | Train Acc: 0.8701 | Test Acc: 0.8897\n",
            "Epoch 8/15 | Train Loss: 0.6666 | Train Acc: 0.8887 | Test Acc: 0.9011\n",
            "Epoch 9/15 | Train Loss: 0.6433 | Train Acc: 0.9015 | Test Acc: 0.9065\n",
            "Epoch 10/15 | Train Loss: 0.6227 | Train Acc: 0.9090 | Test Acc: 0.9178\n",
            "Epoch 11/15 | Train Loss: 0.6041 | Train Acc: 0.9181 | Test Acc: 0.9216\n",
            "Epoch 12/15 | Train Loss: 0.5870 | Train Acc: 0.9234 | Test Acc: 0.9265\n",
            "Epoch 13/15 | Train Loss: 0.5709 | Train Acc: 0.9274 | Test Acc: 0.9292\n",
            "Epoch 14/15 | Train Loss: 0.5557 | Train Acc: 0.9307 | Test Acc: 0.9308\n",
            "Epoch 15/15 | Train Loss: 0.5413 | Train Acc: 0.9339 | Test Acc: 0.9324\n"
          ]
        }
      ]
    },
    {
      "cell_type": "markdown",
      "source": [
        "Visualize the output of the model once it is trained"
      ],
      "metadata": {
        "id": "mQLrE9ReL2zN"
      }
    },
    {
      "cell_type": "code",
      "source": [
        "plt.plot(range(1, epochs + 1), train_accs, label=\"Train Accuracy\")\n",
        "plt.plot(range(1, epochs + 1), test_accs, label=\"Test Accuracy\")\n",
        "plt.xlabel(\"Epoch\")\n",
        "plt.ylabel(\"Accuracy\")\n",
        "plt.title(\"Train vs Test Accuracy\")\n",
        "plt.legend()\n",
        "plt.grid(True)\n",
        "plt.show()"
      ],
      "metadata": {
        "colab": {
          "base_uri": "https://localhost:8080/",
          "height": 472
        },
        "id": "hlw88krGHgwc",
        "outputId": "1da36ee1-60f7-4290-a5e3-7335810c1462"
      },
      "execution_count": 12,
      "outputs": [
        {
          "output_type": "display_data",
          "data": {
            "text/plain": [
              "<Figure size 640x480 with 1 Axes>"
            ],
            "image/png": "[encoded data removed]"
          },
          "metadata": {}
        }
      ]
    }
  ]
}