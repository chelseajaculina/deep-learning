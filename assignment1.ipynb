{
  "nbformat": 4,
  "nbformat_minor": 0,
  "metadata": {
    "colab": {
      "provenance": []
    },
    "kernelspec": {
      "name": "python3",
      "display_name": "Python 3"
    },
    "language_info": {
      "name": "python"
    }
  },
  "cells": [
    {
      "cell_type": "markdown",
      "source": [
        "Chelsea Jaculina\n",
        "\n",
        "DATA 255 Assignment #1\n",
        "\n",
        "September 15, 2025"
      ],
      "metadata": {
        "id": "GEdnZMKmRZ0z"
      }
    },
    {
      "cell_type": "markdown",
      "source": [
        "## Import Required Libraries"
      ],
      "metadata": {
        "id": "UufVIAHQTuF9"
      }
    },
    {
      "cell_type": "code",
      "source": [
        "import csv # library to read csv files\n",
        "import torch # PyTorch to store numbers and perform math operations\n",
        "import matplotlib.pyplot as plt # to plot and visualize images"
      ],
      "metadata": {
        "id": "SfbaD4FDTnS-"
      },
      "execution_count": 203,
      "outputs": []
    },
    {
      "cell_type": "markdown",
      "source": [
        "##1. Display the Sample Images"
      ],
      "metadata": {
        "id": "z4dxMBEvRgMY"
      }
    },
    {
      "cell_type": "markdown",
      "source": [
        "Load MNIST CSV files"
      ],
      "metadata": {
        "id": "NOWHXlnF5YCF"
      }
    },
    {
      "cell_type": "code",
      "source": [
        "def load_mnist_csv(filename, num_samples=None):\n",
        "    data = [] # list to store label and pixels as tuples\n",
        "    with open(filename, 'r') as f: # open csv file on read\n",
        "        reader = csv.reader(f)\n",
        "        next(reader)  # skip header\n",
        "        for i, row in enumerate(reader):\n",
        "            if num_samples and i >= num_samples: # if a sample limit is provide, stop loop through each row in file\n",
        "                break\n",
        "            row = list(map(int, row)) # convert all string values to integers in row\n",
        "            label = row[0] # first row is the label (0 or 1)\n",
        "            pixels = row[1:] # remaining 784 values are the pixel values for image\n",
        "            data.append((label, pixels)) # store the label and pixel as a tuple in list\n",
        "    return data"
      ],
      "metadata": {
        "id": "1rdtXEBPwYSR"
      },
      "execution_count": 204,
      "outputs": []
    },
    {
      "cell_type": "code",
      "source": [
        "# load training data from csv file\n",
        "train_samples = load_mnist_csv(\"/content/drive/MyDrive/MSDA 2024-2026/04 Fall 2025/DATA 255 - Deep Learning/mnist_train_binary.csv\")\n",
        "\n",
        "# load test data from csv file\n",
        "test_samples  = load_mnist_csv(\"/content/drive/MyDrive/MSDA 2024-2026/04 Fall 2025/DATA 255 - Deep Learning/mnist_test_binary.csv\")\n",
        "\n",
        "print(f\"Loaded {len(train_samples)} training samples successfully\")\n",
        "print(f\"Loaded {len(test_samples)} test samples successfully\")\n"
      ],
      "metadata": {
        "colab": {
          "base_uri": "https://localhost:8080/"
        },
        "id": "RcdP63X8wcCT",
        "outputId": "1ea60635-0944-45f2-fbbf-cd8f4754fc9d"
      },
      "execution_count": 193,
      "outputs": [
        {
          "output_type": "stream",
          "name": "stdout",
          "text": [
            "Loaded 11339 training samples successfully\n",
            "Loaded 1850 test samples successfully\n"
          ]
        }
      ]
    },
    {
      "cell_type": "markdown",
      "source": [
        "Load the dataset from the csv files and display the sample images as shown in Fig.1."
      ],
      "metadata": {
        "id": "AGnlpLyj1luJ"
      }
    },
    {
      "cell_type": "code",
      "source": [
        "plt.figure(figsize=(6, 6))\n",
        "for i, (label, pixels) in enumerate(train_samples[:9]):\n",
        "    image = torch.tensor(pixels, dtype=torch.float32).reshape(28, 28)\n",
        "    plt.subplot(3, 3, i + 1)\n",
        "    plt.imshow(image, cmap=\"gray\")\n",
        "    plt.title(f\"Label: {label}\")\n",
        "    plt.axis(\"off\")\n",
        "plt.tight_layout()\n",
        "plt.show()"
      ],
      "metadata": {
        "colab": {
          "base_uri": "https://localhost:8080/",
          "height": 607
        },
        "id": "o3Usya-dwplv",
        "outputId": "62290856-a409-47f4-bac1-39458ceb54f5"
      },
      "execution_count": 194,
      "outputs": [
        {
          "output_type": "display_data",
          "data": {
            "text/plain": [
              "<Figure size 600x600 with 9 Axes>"
            ],
            "image/png": "[encoded data removed]"
          },
          "metadata": {}
        }
      ]
    },
    {
      "cell_type": "markdown",
      "source": [
        "##2. Build Neural Network"
      ],
      "metadata": {
        "id": "JdwoDZnjRm-e"
      }
    },
    {
      "cell_type": "code",
      "source": [
        "# define sigmoid function from scratch\n",
        "def sigmoid(x):\n",
        "    return 1 / (1 + torch.exp(-x))"
      ],
      "metadata": {
        "id": "Ahsjm9I9wwzL"
      },
      "execution_count": 195,
      "outputs": []
    },
    {
      "cell_type": "code",
      "source": [
        "input_size = 784 # number of input neurons (28 * 28)\n",
        "hidden_size = 100 # number of hidden layer neurons\n",
        "output_size = 1 # # number of output neurons (binary classification: 0 or 1)"
      ],
      "metadata": {
        "id": "lwAF-YKBwyhl"
      },
      "execution_count": 196,
      "outputs": []
    },
    {
      "cell_type": "code",
      "source": [
        "torch.manual_seed(0) # set seed for random number generation\n",
        "\n",
        "# set 784 input neurons to connect to 100 hidden neurons\n",
        "w1 = torch.randn((input_size, hidden_size), dtype=torch.float32, requires_grad=True)\n",
        "\n",
        "# set 100 hidden neurons connect to 1 output neuron\n",
        "w2 = torch.randn((hidden_size, output_size), dtype=torch.float32, requires_grad=True)\n",
        "\n",
        "# set bias for each of the 100 hidden layer neurons\n",
        "b1 = torch.randn((hidden_size,), dtype=torch.float32, requires_grad=True)  # one bias per hidden neuron\n",
        "\n",
        "# set bias for the output neuron\n",
        "b2 = torch.randn((output_size,), dtype=torch.float32, requires_grad=True)  # one bias for the output neuron\n",
        "\n",
        "# confirm shapes\n",
        "print(\"Weight matrix from input layer to hidden layer: \", w1.shape)\n",
        "print(\"Weight matrix from hidden layer to output layer:\", w2.shape)"
      ],
      "metadata": {
        "colab": {
          "base_uri": "https://localhost:8080/"
        },
        "id": "cJKkNs_Lw1fo",
        "outputId": "9276a1ba-11b8-4ed6-e3cd-55cd8020c610"
      },
      "execution_count": 197,
      "outputs": [
        {
          "output_type": "stream",
          "name": "stdout",
          "text": [
            "Weight matrix from input layer to hidden layer:  torch.Size([784, 100])\n",
            "Weight matrix from hidden layer to output layer: torch.Size([100, 1])\n"
          ]
        }
      ]
    },
    {
      "cell_type": "code",
      "source": [
        "# define forward feed pass function\n",
        "def forward(x):\n",
        "    # set linear transformation from input layer to hidden layer\n",
        "    z1 = x @ w1 + b1\n",
        "\n",
        "    # apply sigmoid activation to hidden layer output\n",
        "    a1 = sigmoid(z1) # hidden layer activation\n",
        "\n",
        "    # set linear transformation from hidden layer to output layer\n",
        "    z2 = a1 @ w2 + b2\n",
        "\n",
        "    # apply sigmoid activation to get output layer activiation\n",
        "    a2 = sigmoid(z2)\n",
        "\n",
        "    return a1, a2\n",
        "\n",
        "print(\"Neural network successfully initialized with weights.\")"
      ],
      "metadata": {
        "colab": {
          "base_uri": "https://localhost:8080/"
        },
        "id": "Hkj0CNuC1-eV",
        "outputId": "638124fa-091e-478f-9e93-dfc52997d0b6"
      },
      "execution_count": 198,
      "outputs": [
        {
          "output_type": "stream",
          "name": "stdout",
          "text": [
            "Neural network successfully initialized with weights.\n"
          ]
        }
      ]
    },
    {
      "cell_type": "markdown",
      "source": [
        "## 3. Calculate a^[2]"
      ],
      "metadata": {
        "id": "DDzMFUcCRqzK"
      }
    },
    {
      "cell_type": "code",
      "source": [
        "batch_pixels = [] # list for pixels\n",
        "batch_labels = [] # list for labels\n",
        "\n",
        "# use the first 64 samples from training data set\n",
        "for label, pixels in train_samples[:64]:\n",
        "    # convert the list of 784 pixel values and normalize them to [0, 1] to train faster and for more stability\n",
        "    batch_pixels.append(torch.tensor(pixels, dtype=torch.float32) / 255.0)\n",
        "\n",
        "    # convert the label (0 or 1) to a shape of 1\n",
        "    batch_labels.append(torch.tensor([label], dtype=torch.float32))\n",
        "\n",
        "x = torch.stack(batch_pixels)\n",
        "y = torch.stack(batch_labels)\n",
        "\n",
        "print(f\"x shape: {x.shape}\")\n",
        "print(f\"y shape: {y.shape}\")"
      ],
      "metadata": {
        "colab": {
          "base_uri": "https://localhost:8080/"
        },
        "id": "U56XaHC02CGW",
        "outputId": "7f064cbd-9f32-42d3-9b3f-9d155d82f1f6"
      },
      "execution_count": 199,
      "outputs": [
        {
          "output_type": "stream",
          "name": "stdout",
          "text": [
            "x shape: torch.Size([64, 784])\n",
            "y shape: torch.Size([64, 1])\n"
          ]
        }
      ]
    },
    {
      "cell_type": "code",
      "source": [
        "# perform a forward pass to compute activation for hidden layer (a1) and output layer (a2)\n",
        "a1, a2 = forward(x)"
      ],
      "metadata": {
        "id": "Dh6FAQ972EV1"
      },
      "execution_count": 200,
      "outputs": []
    },
    {
      "cell_type": "code",
      "source": [
        "# x: 64 images, each flattened to 784 pixel values (28x28)\n",
        "print(f\"Input batch x shape: {x.shape}\")  # [64, 784]\n",
        "\n",
        "# w1: weights connecting 784 input pixels to 100 hidden units\n",
        "print(f\"W1 shape: {w1.shape}\")  # [784, 100]\n",
        "\n",
        "# a1: hidden layer output after sigmoid, one row per image\n",
        "print(f\"Hidden layer a1 shape: {a1.shape}\")  # [64, 100]\n",
        "\n",
        "# w2: weights from 100 hidden units to 1 output unit\n",
        "print(f\"W2 shape: {w2.shape}\")  # [100, 1]\n",
        "\n",
        "# a2: final output — one sigmoid value per image\n",
        "print(f\"Output layer a2 shape: {a2.shape}\")  # [64, 1]"
      ],
      "metadata": {
        "colab": {
          "base_uri": "https://localhost:8080/"
        },
        "id": "ThIFn6No46zH",
        "outputId": "de950863-c034-407c-ae8a-9e4c1525d9ee"
      },
      "execution_count": 201,
      "outputs": [
        {
          "output_type": "stream",
          "name": "stdout",
          "text": [
            "Input batch x shape: torch.Size([64, 784])\n",
            "W1 shape: torch.Size([784, 100])\n",
            "Hidden layer a1 shape: torch.Size([64, 100])\n",
            "W2 shape: torch.Size([100, 1])\n",
            "Output layer a2 shape: torch.Size([64, 1])\n"
          ]
        }
      ]
    },
    {
      "cell_type": "markdown",
      "source": [
        "Calculate a[2] for the first 64 samples from the train set and print them out."
      ],
      "metadata": {
        "id": "Ig7fd-NN9brP"
      }
    },
    {
      "cell_type": "code",
      "source": [
        "print(\"a^[2] values for first 64 samples:\")\n",
        "for i in range(a2.shape[0]):\n",
        "    print(f\"{a2[i].item():.4f}\", end=\" \")\n",
        "    if (i + 1) % 8 == 0:\n",
        "        print()\n",
        "print()"
      ],
      "metadata": {
        "colab": {
          "base_uri": "https://localhost:8080/"
        },
        "id": "-mzYdVQl-O8x",
        "outputId": "a31f98a0-7a3f-4b8c-ff0c-8a335b92fd19"
      },
      "execution_count": 202,
      "outputs": [
        {
          "output_type": "stream",
          "name": "stdout",
          "text": [
            "a^[2] values for first 64 samples:\n",
            "0.8133 0.0002 0.9979 0.9805 0.8663 0.9970 0.5723 0.3195 \n",
            "0.0617 0.0010 0.6524 0.8307 0.3545 0.9701 0.9991 0.1642 \n",
            "0.1425 0.0869 0.6445 0.6767 0.0024 0.0352 0.0117 0.0008 \n",
            "0.0044 0.9915 0.8821 0.0098 0.9642 0.0193 0.9465 0.4744 \n",
            "0.9609 0.6980 0.1000 0.0009 0.9460 0.0035 0.9968 0.9172 \n",
            "0.3195 0.0426 0.1549 0.7853 0.0362 0.0821 0.5978 0.9784 \n",
            "0.9156 0.2269 0.2211 0.2656 0.8224 0.9933 0.0004 0.3640 \n",
            "0.8869 0.7098 0.6084 0.0023 0.6392 0.9970 0.0245 0.7572 \n",
            "\n"
          ]
        }
      ]
    }
  ]
}